{
 "cells": [
  {
   "attachments": {},
   "cell_type": "markdown",
   "metadata": {},
   "source": [
    "# Iris Dataset Classifier Exercise"
   ]
  },
  {
   "attachments": {},
   "cell_type": "markdown",
   "metadata": {},
   "source": [
    "## 1. Generate Model and Data"
   ]
  },
  {
   "attachments": {},
   "cell_type": "markdown",
   "metadata": {},
   "source": [
    "### 1-1. Setup"
   ]
  },
  {
   "cell_type": "code",
   "execution_count": null,
   "metadata": {},
   "outputs": [],
   "source": [
    "from sklearn.datasets import load_iris\n",
    "from sklearn.model_selection import train_test_split\n",
    "import tensorflow as tf\n",
    "from   tensorflow import keras\n",
    "import tf2onnx\n",
    "import idx2numpy\n",
    "import numpy as np\n",
    "import matplotlib.pyplot as plt"
   ]
  },
  {
   "attachments": {},
   "cell_type": "markdown",
   "metadata": {},
   "source": [
    "### 1-2. Dataset loading & processing"
   ]
  },
  {
   "cell_type": "code",
   "execution_count": null,
   "metadata": {},
   "outputs": [],
   "source": [
    "# load data from scikit-learn library\n",
    "iris = load_iris()\n",
    "# onehot coding labels \n",
    "label_oneHot = tf.one_hot(iris.target, len(set(iris.target))).numpy()\n",
    "# split dataset into train and test sets\n",
    "X_train, X_test, y_train, y_test = train_test_split(iris.data, label_oneHot, test_size=0.2, random_state=42)\n",
    "print(X_train.shape, X_test.shape, y_train.shape, y_test.shape)"
   ]
  },
  {
   "attachments": {},
   "cell_type": "markdown",
   "metadata": {},
   "source": [
    "### 1-3. Model building and training"
   ]
  },
  {
   "cell_type": "code",
   "execution_count": null,
   "metadata": {},
   "outputs": [],
   "source": [
    "# 2 hidden layers with relu\n",
    "model = tf.keras.Sequential([\n",
    "    tf.keras.layers.Dense(10, activation='relu'),\n",
    "    tf.keras.layers.Dense(10, activation='relu'),\n",
    "    tf.keras.layers.Dense(3)\n",
    "  ])\n",
    "\n",
    "# set optimizer, loss function, and evaluation metrics \n",
    "model.compile(optimizer='adam',\n",
    "              loss=keras.losses.CategoricalCrossentropy(from_logits=True),\n",
    "              metrics=['accuracy'])\n",
    "\n",
    "# model training\n",
    "model.fit(X_train, y_train, batch_size=1, epochs=50, validation_data=(X_test, y_test))"
   ]
  },
  {
   "attachments": {},
   "cell_type": "markdown",
   "metadata": {},
   "source": [
    "### 1-4. Convert model to onnx, data to idx"
   ]
  },
  {
   "cell_type": "code",
   "execution_count": null,
   "metadata": {},
   "outputs": [],
   "source": [
    "# convert model to onnx\n",
    "onnx_model, _ = tf2onnx.convert.from_keras(model, output_path=\"iris_model.onnx\")\n",
    "# convert data to idx\n",
    "idx2numpy.convert_to_file('iris_test_data.idx', X_test)\n",
    "idx2numpy.convert_to_file('iris_test_label.idx', y_test)"
   ]
  },
  {
   "attachments": {},
   "cell_type": "markdown",
   "metadata": {},
   "source": [
    "## 2. Explore data (to decide logical specification)"
   ]
  },
  {
   "attachments": {},
   "cell_type": "markdown",
   "metadata": {},
   "source": [
    "### 2-1. Check range of input features"
   ]
  },
  {
   "cell_type": "code",
   "execution_count": null,
   "metadata": {},
   "outputs": [],
   "source": [
    "# get min, max\n",
    "min_values = np.min(iris.data, axis=0)\n",
    "max_values = np.max(iris.data, axis=0)\n",
    "print(min_values, max_values)"
   ]
  },
  {
   "cell_type": "code",
   "execution_count": null,
   "metadata": {},
   "outputs": [],
   "source": [
    "# get mean, std\n",
    "mean_values = np.mean(iris.data, axis=0)\n",
    "std_values = np.std(iris.data, axis=0)\n",
    "print(mean_values, std_values)"
   ]
  },
  {
   "attachments": {},
   "cell_type": "markdown",
   "metadata": {},
   "source": [
    "### 2-2. Draw scatter plots"
   ]
  },
  {
   "cell_type": "code",
   "execution_count": null,
   "metadata": {},
   "outputs": [],
   "source": [
    "n_features = iris.data.shape[1]\n",
    "\n",
    "# create subplots for each pair of features\n",
    "fig, axs = plt.subplots(n_features, n_features, figsize=(16, 8))\n",
    "\n",
    "# iterate over each pair of features\n",
    "for i in range(n_features):\n",
    "    for j in range(n_features):\n",
    "        # skip diagonal plots \n",
    "        if i == j:\n",
    "            continue    \n",
    "        ax = axs[i, j]\n",
    "        scatter = ax.scatter(iris.data[:, i], iris.data[:, j], c=iris.target, label=iris.target_names, alpha=0.5)\n",
    "        ax.grid(True, linestyle='dotted')\n",
    "        ax.set_xlabel(iris.feature_names[i], labelpad=0)\n",
    "        ax.set_ylabel(iris.feature_names[j])\n",
    "        \n",
    "# get unique class labels and handles from the scatter plot\n",
    "handles, labels = scatter.legend_elements()\n",
    "\n",
    "# Create a single legend for the entire plot\n",
    "fig.legend(handles, iris.target_names, loc='lower center', ncol=4)\n",
    "\n",
    "# Adjust subplot spacing\n",
    "plt.subplots_adjust(wspace=0.3, hspace=0.5)\n",
    "\n",
    "plt.show()"
   ]
  },
  {
   "attachments": {},
   "cell_type": "markdown",
   "metadata": {},
   "source": [
    "### 2-3. Check relationships between features"
   ]
  },
  {
   "cell_type": "code",
   "execution_count": null,
   "metadata": {},
   "outputs": [],
   "source": [
    "# sepal length is always longer than sepal width\n",
    "np.any(iris.data[:, 0] - iris.data[:, 1] > 0)"
   ]
  },
  {
   "cell_type": "code",
   "execution_count": null,
   "metadata": {},
   "outputs": [],
   "source": [
    "# petal length is always longer than petal width\n",
    "np.any(iris.data[:, 2] - iris.data[:, 3] > 0)"
   ]
  },
  {
   "attachments": {},
   "cell_type": "markdown",
   "metadata": {},
   "source": [
    "### 2-4. Check counter examples"
   ]
  },
  {
   "cell_type": "code",
   "execution_count": null,
   "metadata": {},
   "outputs": [],
   "source": [
    "counter_example =    [4.3, 2.0, 1.236752, 1.236752]\n",
    "# convert to tensor and reshape\n",
    "tensor_sample = tf.constant(counter_example, dtype=tf.float32)\n",
    "tensor_sample = tf.reshape(tensor_sample, (1, -1))\n",
    "\n",
    "# predict\n",
    "model.predict(tensor_sample)"
   ]
  }
 ],
 "metadata": {
  "kernelspec": {
   "display_name": "verification",
   "language": "python",
   "name": "python3"
  },
  "language_info": {
   "codemirror_mode": {
    "name": "ipython",
    "version": 3
   },
   "file_extension": ".py",
   "mimetype": "text/x-python",
   "name": "python",
   "nbconvert_exporter": "python",
   "pygments_lexer": "ipython3",
   "version": "3.10.0"
  },
  "orig_nbformat": 4
 },
 "nbformat": 4,
 "nbformat_minor": 2
}
